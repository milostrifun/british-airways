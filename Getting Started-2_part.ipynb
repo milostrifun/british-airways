{
 "cells": [
  {
   "cell_type": "markdown",
   "metadata": {},
   "source": [
    "# Task 2\n",
    "\n",
    "---\n",
    "\n",
    "## Predictive modeling of customer bookings\n",
    "\n",
    "This Jupyter notebook includes some code to get you started with this predictive modeling task. We will use various packages for data manipulation, feature engineering and machine learning.\n",
    "\n",
    "### Exploratory data analysis\n",
    "\n",
    "First, we must explore the data in order to better understand what we have and the statistical properties of the dataset."
   ]
  },
  {
   "cell_type": "code",
   "execution_count": 120,
   "metadata": {},
   "outputs": [],
   "source": [
    "import pandas as pd\n",
    "import matplotlib.pyplot as plt\n",
    "import numpy as np\n",
    "import seaborn as sns"
   ]
  },
  {
   "cell_type": "code",
   "execution_count": 121,
   "metadata": {},
   "outputs": [
    {
     "data": {
      "text/plain": "   num_passengers sales_channel  trip_type  purchase_lead  length_of_stay  \\\n0               2      Internet  RoundTrip            262              19   \n1               1      Internet  RoundTrip            112              20   \n2               2      Internet  RoundTrip            243              22   \n3               1      Internet  RoundTrip             96              31   \n4               2      Internet  RoundTrip             68              22   \n\n   flight_hour flight_day   route booking_origin  wants_extra_baggage  \\\n0            7        Sat  AKLDEL    New Zealand                    1   \n1            3        Sat  AKLDEL    New Zealand                    0   \n2           17        Wed  AKLDEL          India                    1   \n3            4        Sat  AKLDEL    New Zealand                    0   \n4           15        Wed  AKLDEL          India                    1   \n\n   wants_preferred_seat  wants_in_flight_meals  flight_duration  \\\n0                     0                      0             5.52   \n1                     0                      0             5.52   \n2                     1                      0             5.52   \n3                     0                      1             5.52   \n4                     0                      1             5.52   \n\n   booking_complete  \n0                 0  \n1                 0  \n2                 0  \n3                 0  \n4                 0  ",
      "text/html": "<div>\n<style scoped>\n    .dataframe tbody tr th:only-of-type {\n        vertical-align: middle;\n    }\n\n    .dataframe tbody tr th {\n        vertical-align: top;\n    }\n\n    .dataframe thead th {\n        text-align: right;\n    }\n</style>\n<table border=\"1\" class=\"dataframe\">\n  <thead>\n    <tr style=\"text-align: right;\">\n      <th></th>\n      <th>num_passengers</th>\n      <th>sales_channel</th>\n      <th>trip_type</th>\n      <th>purchase_lead</th>\n      <th>length_of_stay</th>\n      <th>flight_hour</th>\n      <th>flight_day</th>\n      <th>route</th>\n      <th>booking_origin</th>\n      <th>wants_extra_baggage</th>\n      <th>wants_preferred_seat</th>\n      <th>wants_in_flight_meals</th>\n      <th>flight_duration</th>\n      <th>booking_complete</th>\n    </tr>\n  </thead>\n  <tbody>\n    <tr>\n      <th>0</th>\n      <td>2</td>\n      <td>Internet</td>\n      <td>RoundTrip</td>\n      <td>262</td>\n      <td>19</td>\n      <td>7</td>\n      <td>Sat</td>\n      <td>AKLDEL</td>\n      <td>New Zealand</td>\n      <td>1</td>\n      <td>0</td>\n      <td>0</td>\n      <td>5.52</td>\n      <td>0</td>\n    </tr>\n    <tr>\n      <th>1</th>\n      <td>1</td>\n      <td>Internet</td>\n      <td>RoundTrip</td>\n      <td>112</td>\n      <td>20</td>\n      <td>3</td>\n      <td>Sat</td>\n      <td>AKLDEL</td>\n      <td>New Zealand</td>\n      <td>0</td>\n      <td>0</td>\n      <td>0</td>\n      <td>5.52</td>\n      <td>0</td>\n    </tr>\n    <tr>\n      <th>2</th>\n      <td>2</td>\n      <td>Internet</td>\n      <td>RoundTrip</td>\n      <td>243</td>\n      <td>22</td>\n      <td>17</td>\n      <td>Wed</td>\n      <td>AKLDEL</td>\n      <td>India</td>\n      <td>1</td>\n      <td>1</td>\n      <td>0</td>\n      <td>5.52</td>\n      <td>0</td>\n    </tr>\n    <tr>\n      <th>3</th>\n      <td>1</td>\n      <td>Internet</td>\n      <td>RoundTrip</td>\n      <td>96</td>\n      <td>31</td>\n      <td>4</td>\n      <td>Sat</td>\n      <td>AKLDEL</td>\n      <td>New Zealand</td>\n      <td>0</td>\n      <td>0</td>\n      <td>1</td>\n      <td>5.52</td>\n      <td>0</td>\n    </tr>\n    <tr>\n      <th>4</th>\n      <td>2</td>\n      <td>Internet</td>\n      <td>RoundTrip</td>\n      <td>68</td>\n      <td>22</td>\n      <td>15</td>\n      <td>Wed</td>\n      <td>AKLDEL</td>\n      <td>India</td>\n      <td>1</td>\n      <td>0</td>\n      <td>1</td>\n      <td>5.52</td>\n      <td>0</td>\n    </tr>\n  </tbody>\n</table>\n</div>"
     },
     "execution_count": 121,
     "metadata": {},
     "output_type": "execute_result"
    }
   ],
   "source": [
    "df = pd.read_csv(\"/Users/milostrifunovic/Projects/british-airways/customer_booking.csv\", encoding=\"ISO-8859-1\")\n",
    "df.head()"
   ]
  },
  {
   "cell_type": "markdown",
   "metadata": {},
   "source": [
    "The `.head()` method allows us to view the first 5 rows in the dataset, this is useful for visual inspection of our columns"
   ]
  },
  {
   "cell_type": "code",
   "execution_count": 122,
   "metadata": {},
   "outputs": [
    {
     "name": "stdout",
     "output_type": "stream",
     "text": [
      "<class 'pandas.core.frame.DataFrame'>\n",
      "RangeIndex: 50000 entries, 0 to 49999\n",
      "Data columns (total 14 columns):\n",
      " #   Column                 Non-Null Count  Dtype  \n",
      "---  ------                 --------------  -----  \n",
      " 0   num_passengers         50000 non-null  int64  \n",
      " 1   sales_channel          50000 non-null  object \n",
      " 2   trip_type              50000 non-null  object \n",
      " 3   purchase_lead          50000 non-null  int64  \n",
      " 4   length_of_stay         50000 non-null  int64  \n",
      " 5   flight_hour            50000 non-null  int64  \n",
      " 6   flight_day             50000 non-null  object \n",
      " 7   route                  50000 non-null  object \n",
      " 8   booking_origin         50000 non-null  object \n",
      " 9   wants_extra_baggage    50000 non-null  int64  \n",
      " 10  wants_preferred_seat   50000 non-null  int64  \n",
      " 11  wants_in_flight_meals  50000 non-null  int64  \n",
      " 12  flight_duration        50000 non-null  float64\n",
      " 13  booking_complete       50000 non-null  int64  \n",
      "dtypes: float64(1), int64(8), object(5)\n",
      "memory usage: 5.3+ MB\n"
     ]
    }
   ],
   "source": [
    "df.info()"
   ]
  },
  {
   "cell_type": "markdown",
   "metadata": {},
   "source": [
    "The `.info()` method gives us a data description, telling us the names of the columns, their data types and how many null values we have. Fortunately, we have no null values. It looks like some of these columns should be converted into different data types, e.g. flight_day.\n",
    "\n",
    "To provide more context, below is a more detailed data description, explaining exactly what each column means:\n",
    "\n",
    "- `num_passengers` = number of passengers travelling\n",
    "- `sales_channel` = sales channel booking was made on\n",
    "- `trip_type` = trip Type (Round Trip, One Way, Circle Trip)\n",
    "- `purchase_lead` = number of days between travel date and booking date\n",
    "- `length_of_stay` = number of days spent at destination\n",
    "- `flight_hour` = hour of flight departure\n",
    "- `flight_day` = day of week of flight departure\n",
    "- `route` = origin -> destination flight route\n",
    "- `booking_origin` = country from where booking was made\n",
    "- `wants_extra_baggage` = if the customer wanted extra baggage in the booking\n",
    "- `wants_preferred_seat` = if the customer wanted a preferred seat in the booking\n",
    "- `wants_in_flight_meals` = if the customer wanted in-flight meals in the booking\n",
    "- `flight_duration` = total duration of flight (in hours)\n",
    "- `booking_complete` = flag indicating if the customer completed the booking\n",
    "\n",
    "Before we compute any statistics on the data, lets do any necessary data conversion"
   ]
  },
  {
   "cell_type": "code",
   "execution_count": 123,
   "metadata": {},
   "outputs": [
    {
     "data": {
      "text/plain": "array(['Sat', 'Wed', 'Thu', 'Mon', 'Sun', 'Tue', 'Fri'], dtype=object)"
     },
     "execution_count": 123,
     "metadata": {},
     "output_type": "execute_result"
    }
   ],
   "source": [
    "df[\"flight_day\"].unique()"
   ]
  },
  {
   "cell_type": "code",
   "execution_count": 124,
   "metadata": {},
   "outputs": [],
   "source": [
    "mapping = {\n",
    "    \"Mon\": 1,\n",
    "    \"Tue\": 2,\n",
    "    \"Wed\": 3,\n",
    "    \"Thu\": 4,\n",
    "    \"Fri\": 5,\n",
    "    \"Sat\": 6,\n",
    "    \"Sun\": 7,\n",
    "}\n",
    "\n",
    "df[\"flight_day\"] = df[\"flight_day\"].map(mapping)"
   ]
  },
  {
   "cell_type": "code",
   "execution_count": 125,
   "metadata": {},
   "outputs": [
    {
     "data": {
      "text/plain": "array([6, 3, 4, 1, 7, 2, 5])"
     },
     "execution_count": 125,
     "metadata": {},
     "output_type": "execute_result"
    }
   ],
   "source": [
    "df[\"flight_day\"].unique()"
   ]
  },
  {
   "cell_type": "code",
   "execution_count": 126,
   "metadata": {},
   "outputs": [
    {
     "data": {
      "text/plain": "       num_passengers  purchase_lead  length_of_stay  flight_hour  \\\ncount    50000.000000   50000.000000     50000.00000  50000.00000   \nmean         1.591240      84.940480        23.04456      9.06634   \nstd          1.020165      90.451378        33.88767      5.41266   \nmin          1.000000       0.000000         0.00000      0.00000   \n25%          1.000000      21.000000         5.00000      5.00000   \n50%          1.000000      51.000000        17.00000      9.00000   \n75%          2.000000     115.000000        28.00000     13.00000   \nmax          9.000000     867.000000       778.00000     23.00000   \n\n         flight_day  wants_extra_baggage  wants_preferred_seat  \\\ncount  50000.000000         50000.000000          50000.000000   \nmean       3.814420             0.668780              0.296960   \nstd        1.992792             0.470657              0.456923   \nmin        1.000000             0.000000              0.000000   \n25%        2.000000             0.000000              0.000000   \n50%        4.000000             1.000000              0.000000   \n75%        5.000000             1.000000              1.000000   \nmax        7.000000             1.000000              1.000000   \n\n       wants_in_flight_meals  flight_duration  booking_complete  \ncount           50000.000000     50000.000000      50000.000000  \nmean                0.427140         7.277561          0.149560  \nstd                 0.494668         1.496863          0.356643  \nmin                 0.000000         4.670000          0.000000  \n25%                 0.000000         5.620000          0.000000  \n50%                 0.000000         7.570000          0.000000  \n75%                 1.000000         8.830000          0.000000  \nmax                 1.000000         9.500000          1.000000  ",
      "text/html": "<div>\n<style scoped>\n    .dataframe tbody tr th:only-of-type {\n        vertical-align: middle;\n    }\n\n    .dataframe tbody tr th {\n        vertical-align: top;\n    }\n\n    .dataframe thead th {\n        text-align: right;\n    }\n</style>\n<table border=\"1\" class=\"dataframe\">\n  <thead>\n    <tr style=\"text-align: right;\">\n      <th></th>\n      <th>num_passengers</th>\n      <th>purchase_lead</th>\n      <th>length_of_stay</th>\n      <th>flight_hour</th>\n      <th>flight_day</th>\n      <th>wants_extra_baggage</th>\n      <th>wants_preferred_seat</th>\n      <th>wants_in_flight_meals</th>\n      <th>flight_duration</th>\n      <th>booking_complete</th>\n    </tr>\n  </thead>\n  <tbody>\n    <tr>\n      <th>count</th>\n      <td>50000.000000</td>\n      <td>50000.000000</td>\n      <td>50000.00000</td>\n      <td>50000.00000</td>\n      <td>50000.000000</td>\n      <td>50000.000000</td>\n      <td>50000.000000</td>\n      <td>50000.000000</td>\n      <td>50000.000000</td>\n      <td>50000.000000</td>\n    </tr>\n    <tr>\n      <th>mean</th>\n      <td>1.591240</td>\n      <td>84.940480</td>\n      <td>23.04456</td>\n      <td>9.06634</td>\n      <td>3.814420</td>\n      <td>0.668780</td>\n      <td>0.296960</td>\n      <td>0.427140</td>\n      <td>7.277561</td>\n      <td>0.149560</td>\n    </tr>\n    <tr>\n      <th>std</th>\n      <td>1.020165</td>\n      <td>90.451378</td>\n      <td>33.88767</td>\n      <td>5.41266</td>\n      <td>1.992792</td>\n      <td>0.470657</td>\n      <td>0.456923</td>\n      <td>0.494668</td>\n      <td>1.496863</td>\n      <td>0.356643</td>\n    </tr>\n    <tr>\n      <th>min</th>\n      <td>1.000000</td>\n      <td>0.000000</td>\n      <td>0.00000</td>\n      <td>0.00000</td>\n      <td>1.000000</td>\n      <td>0.000000</td>\n      <td>0.000000</td>\n      <td>0.000000</td>\n      <td>4.670000</td>\n      <td>0.000000</td>\n    </tr>\n    <tr>\n      <th>25%</th>\n      <td>1.000000</td>\n      <td>21.000000</td>\n      <td>5.00000</td>\n      <td>5.00000</td>\n      <td>2.000000</td>\n      <td>0.000000</td>\n      <td>0.000000</td>\n      <td>0.000000</td>\n      <td>5.620000</td>\n      <td>0.000000</td>\n    </tr>\n    <tr>\n      <th>50%</th>\n      <td>1.000000</td>\n      <td>51.000000</td>\n      <td>17.00000</td>\n      <td>9.00000</td>\n      <td>4.000000</td>\n      <td>1.000000</td>\n      <td>0.000000</td>\n      <td>0.000000</td>\n      <td>7.570000</td>\n      <td>0.000000</td>\n    </tr>\n    <tr>\n      <th>75%</th>\n      <td>2.000000</td>\n      <td>115.000000</td>\n      <td>28.00000</td>\n      <td>13.00000</td>\n      <td>5.000000</td>\n      <td>1.000000</td>\n      <td>1.000000</td>\n      <td>1.000000</td>\n      <td>8.830000</td>\n      <td>0.000000</td>\n    </tr>\n    <tr>\n      <th>max</th>\n      <td>9.000000</td>\n      <td>867.000000</td>\n      <td>778.00000</td>\n      <td>23.00000</td>\n      <td>7.000000</td>\n      <td>1.000000</td>\n      <td>1.000000</td>\n      <td>1.000000</td>\n      <td>9.500000</td>\n      <td>1.000000</td>\n    </tr>\n  </tbody>\n</table>\n</div>"
     },
     "execution_count": 126,
     "metadata": {},
     "output_type": "execute_result"
    }
   ],
   "source": [
    "df.describe()"
   ]
  },
  {
   "cell_type": "markdown",
   "metadata": {},
   "source": [
    "The `.describe()` method gives us a summary of descriptive statistics over the entire dataset (only works for numeric columns). This gives us a quick overview of a few things such as the mean, min, max and overall distribution of each column.\n",
    "\n",
    "From this point, you should continue exploring the dataset with some visualisations and other metrics that you think may be useful. Then, you should prepare your dataset for predictive modelling. Finally, you should train your machine learning model, evaluate it with performance metrics and output visualisations for the contributing variables. All of this analysis should be summarised in your single slide."
   ]
  },
  {
   "cell_type": "markdown",
   "metadata": {},
   "source": []
  },
  {
   "cell_type": "code",
   "execution_count": 127,
   "outputs": [
    {
     "data": {
      "text/plain": "num_passengers             int64\nsales_channel             object\ntrip_type                 object\npurchase_lead              int64\nlength_of_stay             int64\nflight_hour                int64\nflight_day                 int64\nroute                     object\nbooking_origin            object\nwants_extra_baggage        int64\nwants_preferred_seat       int64\nwants_in_flight_meals      int64\nflight_duration          float64\nbooking_complete           int64\ndtype: object"
     },
     "execution_count": 127,
     "metadata": {},
     "output_type": "execute_result"
    }
   ],
   "source": [
    "df.dtypes"
   ],
   "metadata": {
    "collapsed": false
   }
  },
  {
   "cell_type": "code",
   "execution_count": 128,
   "outputs": [
    {
     "data": {
      "text/plain": "0    42522\n1     7478\nName: booking_complete, dtype: int64"
     },
     "execution_count": 128,
     "metadata": {},
     "output_type": "execute_result"
    }
   ],
   "source": [
    "df[\"booking_complete\"].value_counts()"
   ],
   "metadata": {
    "collapsed": false
   }
  },
  {
   "cell_type": "code",
   "execution_count": 129,
   "outputs": [],
   "source": [
    "X = df.drop(\"booking_complete\",axis=1)\n",
    "y = df[\"booking_complete\"]\n",
    "\n",
    "# Change object data type to int data type\n",
    "for col in X.select_dtypes(\"object\"):\n",
    "    X[col], _ = X[col].factorize()"
   ],
   "metadata": {
    "collapsed": false
   }
  },
  {
   "cell_type": "code",
   "execution_count": 130,
   "outputs": [
    {
     "data": {
      "text/plain": "num_passengers             int64\nsales_channel              int64\ntrip_type                  int64\npurchase_lead              int64\nlength_of_stay             int64\nflight_hour                int64\nflight_day                 int64\nroute                      int64\nbooking_origin             int64\nwants_extra_baggage        int64\nwants_preferred_seat       int64\nwants_in_flight_meals      int64\nflight_duration          float64\ndtype: object"
     },
     "execution_count": 130,
     "metadata": {},
     "output_type": "execute_result"
    }
   ],
   "source": [
    "X.dtypes"
   ],
   "metadata": {
    "collapsed": false
   }
  },
  {
   "cell_type": "code",
   "execution_count": 131,
   "outputs": [
    {
     "data": {
      "text/plain": "route                    0.054153\nbooking_origin           0.045958\nflight_duration          0.017466\nwants_extra_baggage      0.007155\nlength_of_stay           0.006729\nflight_day               0.003757\nnum_passengers           0.002963\nflight_hour              0.002478\nwants_in_flight_meals    0.001801\nwants_preferred_seat     0.001164\nsales_channel            0.000600\npurchase_lead            0.000312\ntrip_type                0.000000\nName: Mi Scores, dtype: float64"
     },
     "execution_count": 131,
     "metadata": {},
     "output_type": "execute_result"
    }
   ],
   "source": [
    "from sklearn.feature_selection import mutual_info_classif\n",
    "mi_score = mutual_info_classif(X,y)\n",
    "mi_score = pd.Series(mi_score,name=\"Mi Scores\",index=X.columns)\n",
    "mi_score = mi_score.sort_values(ascending=False)\n",
    "\n",
    "mi_score"
   ],
   "metadata": {
    "collapsed": false
   }
  },
  {
   "cell_type": "code",
   "execution_count": 132,
   "outputs": [],
   "source": [
    "def plot_mi_values(mi):\n",
    "    values = mi.sort_values(ascending=True)\n",
    "    width = np.arange(len(values))\n",
    "    ticks = list(values.index)\n",
    "    plt.barh(width,values)\n",
    "    plt.yticks(width,ticks)\n",
    "    plt.title(\"Mutual Information values\")\n"
   ],
   "metadata": {
    "collapsed": false
   }
  },
  {
   "cell_type": "code",
   "execution_count": 133,
   "outputs": [
    {
     "data": {
      "text/plain": "<Figure size 800x500 with 1 Axes>",
      "image/png": "[encoded data removed]"
     },
     "metadata": {},
     "output_type": "display_data"
    }
   ],
   "source": [
    "plt.figure(figsize=(8,5))\n",
    "plot_mi_values(mi_score)"
   ],
   "metadata": {
    "collapsed": false
   }
  },
  {
   "cell_type": "code",
   "execution_count": 134,
   "outputs": [],
   "source": [
    "from sklearn.model_selection import train_test_split\n",
    "\n",
    "# Create a function for dataset split\n",
    "def dataset(X,y):\n",
    "    train_full_X, val_X, train_full_y, val_y = train_test_split(X,y, test_size=0.2, random_state=0)\n",
    "\n",
    "    train_X, test_X, train_y, test_y = train_test_split(train_full_X,train_full_y,test_size=0.25,random_state=0)\n",
    "\n",
    "    return (train_X,val_X,train_y,val_y)"
   ],
   "metadata": {
    "collapsed": false
   }
  },
  {
   "cell_type": "code",
   "execution_count": 135,
   "outputs": [],
   "source": [
    "from sklearn.preprocessing import MinMaxScaler\n",
    "\n",
    "def scale(X):\n",
    "    scaler = MinMaxScaler()\n",
    "    scaler.fit(X)\n",
    "    return X"
   ],
   "metadata": {
    "collapsed": false
   }
  },
  {
   "cell_type": "markdown",
   "source": [
    "MODEL 1 WITH 6 FEATURES"
   ],
   "metadata": {
    "collapsed": false
   }
  },
  {
   "cell_type": "code",
   "execution_count": 136,
   "outputs": [
    {
     "name": "stdout",
     "output_type": "stream",
     "text": [
      "ACCURACY:  83.36\n",
      "AUC score:  0.5657818407546988\n"
     ]
    }
   ],
   "source": [
    "from sklearn.metrics import roc_auc_score\n",
    "from sklearn.metrics import accuracy_score\n",
    "from sklearn.ensemble import RandomForestClassifier\n",
    "\n",
    "# adding the features in a list\n",
    "features=['route','booking_origin','flight_duration','wants_extra_baggage', 'length_of_stay','num_passengers']\n",
    "X= df[features]\n",
    "\n",
    "#one hot encoding\n",
    "X = pd.get_dummies(X, columns=features)\n",
    "X= scale(X)\n",
    "y= df.booking_complete\n",
    "\n",
    "X_train,X_val,y_train,y_val= dataset(X,y)\n",
    "\n",
    "forest_model= RandomForestClassifier(random_state=1)\n",
    "forest_model.fit(X_train, y_train)\n",
    "pred= forest_model.predict(X_val)\n",
    "\n",
    "print('ACCURACY: ',accuracy_score(y_val,pred)*100)\n",
    "print('AUC score: ',roc_auc_score(y_val,pred))"
   ],
   "metadata": {
    "collapsed": false
   }
  },
  {
   "cell_type": "markdown",
   "source": [
    "MODEL 2 WITH ALL FEATURES"
   ],
   "metadata": {
    "collapsed": false
   }
  },
  {
   "cell_type": "code",
   "execution_count": 137,
   "outputs": [
    {
     "name": "stdout",
     "output_type": "stream",
     "text": [
      "ACCURACY:  84.84\n",
      "AUC score:  0.5527766076821664\n"
     ]
    }
   ],
   "source": [
    "X= df.drop('booking_complete',axis=1)\n",
    "\n",
    "#one hot encoding\n",
    "X = pd.get_dummies(X)\n",
    "X= scale(X)\n",
    "y= df.booking_complete\n",
    "\n",
    "X_train,X_val,y_train,y_val= dataset(X,y)\n",
    "\n",
    "forest_model= RandomForestClassifier(random_state=1)\n",
    "forest_model.fit(X_train, y_train)\n",
    "pred= forest_model.predict(X_val)\n",
    "\n",
    "print('ACCURACY: ',accuracy_score(y_val,pred)*100)\n",
    "print('AUC score: ',roc_auc_score(y_val,pred))"
   ],
   "metadata": {
    "collapsed": false
   }
  },
  {
   "cell_type": "markdown",
   "source": [
    "VALIDATING TEST DATASET"
   ],
   "metadata": {
    "collapsed": false
   }
  },
  {
   "cell_type": "code",
   "execution_count": 138,
   "outputs": [
    {
     "name": "stdout",
     "output_type": "stream",
     "text": [
      "ACCURACY:  85.37\n",
      "AUC score:  0.5678474780954598\n"
     ]
    }
   ],
   "source": [
    "X= df.drop('booking_complete',axis=1)\n",
    "#one hot encoding\n",
    "X = pd.get_dummies(X)\n",
    "X= scale(X)\n",
    "y= df.booking_complete\n",
    "\n",
    "train_full_X,test_X, train_full_y, test_y = train_test_split(X, y,test_size=0.2,random_state = 0)\n",
    "\n",
    "forest_model= RandomForestClassifier(random_state=1)\n",
    "forest_model.fit(train_full_X, train_full_y)\n",
    "pred= forest_model.predict(test_X)\n",
    "\n",
    "print('ACCURACY: ',accuracy_score(test_y,pred)*100)\n",
    "print('AUC score: ',roc_auc_score(test_y,pred))"
   ],
   "metadata": {
    "collapsed": false
   }
  },
  {
   "cell_type": "code",
   "execution_count": 138,
   "outputs": [],
   "source": [],
   "metadata": {
    "collapsed": false
   }
  }
 ],
 "metadata": {
  "kernelspec": {
   "display_name": "Python 3.9.13 ('venv': venv)",
   "language": "python",
   "name": "python3"
  },
  "language_info": {
   "codemirror_mode": {
    "name": "ipython",
    "version": 3
   },
   "file_extension": ".py",
   "mimetype": "text/x-python",
   "name": "python",
   "nbconvert_exporter": "python",
   "pygments_lexer": "ipython3",
   "version": "3.9.13"
  },
  "orig_nbformat": 4,
  "vscode": {
   "interpreter": {
    "hash": "4f7924c4c56b083e0e50eadfe7ef592a7a8ef70df33a0047f82280e6be1afe15"
   }
  }
 },
 "nbformat": 4,
 "nbformat_minor": 2
}
